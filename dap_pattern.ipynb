{
 "cells": [
  {
   "cell_type": "code",
   "execution_count": 1,
   "metadata": {},
   "outputs": [
    {
     "name": "stderr",
     "output_type": "stream",
     "text": [
      "/Users/weiching/opt/anaconda3/lib/python3.8/site-packages/IPython/core/interactiveshell.py:3146: DtypeWarning: Columns (1,3,4,8) have mixed types.Specify dtype option on import or set low_memory=False.\n",
      "  has_raised = await self.run_ast_nodes(code_ast.body, cell_name,\n"
     ]
    },
    {
     "name": "stdout",
     "output_type": "stream",
     "text": [
      "(9570526, 10)\n",
      "ednum             int64\n",
      "who              object\n",
      "pattern_id      float64\n",
      "when_use         object\n",
      "why_use          object\n",
      "pattern_name     object\n",
      "siteid           object\n",
      "category_id     float64\n",
      "what_helps       object\n",
      "backgroundid      int64\n",
      "dtype: object\n"
     ]
    },
    {
     "data": {
      "text/html": [
       "<div>\n",
       "<style scoped>\n",
       "    .dataframe tbody tr th:only-of-type {\n",
       "        vertical-align: middle;\n",
       "    }\n",
       "\n",
       "    .dataframe tbody tr th {\n",
       "        vertical-align: top;\n",
       "    }\n",
       "\n",
       "    .dataframe thead th {\n",
       "        text-align: right;\n",
       "    }\n",
       "</style>\n",
       "<table border=\"1\" class=\"dataframe\">\n",
       "  <thead>\n",
       "    <tr style=\"text-align: right;\">\n",
       "      <th></th>\n",
       "      <th>ednum</th>\n",
       "      <th>who</th>\n",
       "      <th>pattern_id</th>\n",
       "      <th>when_use</th>\n",
       "      <th>why_use</th>\n",
       "      <th>pattern_name</th>\n",
       "      <th>siteid</th>\n",
       "      <th>category_id</th>\n",
       "      <th>what_helps</th>\n",
       "      <th>backgroundid</th>\n",
       "    </tr>\n",
       "  </thead>\n",
       "  <tbody>\n",
       "    <tr>\n",
       "      <th>0</th>\n",
       "      <td>732698</td>\n",
       "      <td>family</td>\n",
       "      <td>NaN</td>\n",
       "      <td>NaN</td>\n",
       "      <td>NaN</td>\n",
       "      <td>NaN</td>\n",
       "      <td>ArapahoeHouse</td>\n",
       "      <td>NaN</td>\n",
       "      <td>nothing</td>\n",
       "      <td>30582</td>\n",
       "    </tr>\n",
       "    <tr>\n",
       "      <th>1</th>\n",
       "      <td>732698</td>\n",
       "      <td>friends</td>\n",
       "      <td>NaN</td>\n",
       "      <td>NaN</td>\n",
       "      <td>NaN</td>\n",
       "      <td>NaN</td>\n",
       "      <td>ArapahoeHouse</td>\n",
       "      <td>NaN</td>\n",
       "      <td>NaN</td>\n",
       "      <td>30582</td>\n",
       "    </tr>\n",
       "    <tr>\n",
       "      <th>2</th>\n",
       "      <td>1319897</td>\n",
       "      <td>friends</td>\n",
       "      <td>NaN</td>\n",
       "      <td>WITH FRIENDS</td>\n",
       "      <td>my friends use</td>\n",
       "      <td>NaN</td>\n",
       "      <td>ArapahoeHouse</td>\n",
       "      <td>NaN</td>\n",
       "      <td>staying busy</td>\n",
       "      <td>36136</td>\n",
       "    </tr>\n",
       "    <tr>\n",
       "      <th>3</th>\n",
       "      <td>311139</td>\n",
       "      <td>anyone</td>\n",
       "      <td>NaN</td>\n",
       "      <td>before a party</td>\n",
       "      <td>my friends use</td>\n",
       "      <td>NaN</td>\n",
       "      <td>ArapahoeHouse</td>\n",
       "      <td>NaN</td>\n",
       "      <td>staying away from people who u</td>\n",
       "      <td>29947</td>\n",
       "    </tr>\n",
       "    <tr>\n",
       "      <th>4</th>\n",
       "      <td>311139</td>\n",
       "      <td>NaN</td>\n",
       "      <td>NaN</td>\n",
       "      <td>on weekends</td>\n",
       "      <td>NaN</td>\n",
       "      <td>NaN</td>\n",
       "      <td>ArapahoeHouse</td>\n",
       "      <td>NaN</td>\n",
       "      <td>NaN</td>\n",
       "      <td>29947</td>\n",
       "    </tr>\n",
       "  </tbody>\n",
       "</table>\n",
       "</div>"
      ],
      "text/plain": [
       "     ednum      who  pattern_id        when_use         why_use pattern_name  \\\n",
       "0   732698   family         NaN             NaN             NaN          NaN   \n",
       "1   732698  friends         NaN             NaN             NaN          NaN   \n",
       "2  1319897  friends         NaN    WITH FRIENDS  my friends use          NaN   \n",
       "3   311139   anyone         NaN  before a party  my friends use          NaN   \n",
       "4   311139      NaN         NaN     on weekends             NaN          NaN   \n",
       "\n",
       "          siteid  category_id                      what_helps  backgroundid  \n",
       "0  ArapahoeHouse          NaN                         nothing         30582  \n",
       "1  ArapahoeHouse          NaN                             NaN         30582  \n",
       "2  ArapahoeHouse          NaN                    staying busy         36136  \n",
       "3  ArapahoeHouse          NaN  staying away from people who u         29947  \n",
       "4  ArapahoeHouse          NaN                             NaN         29947  "
      ]
     },
     "execution_count": 1,
     "metadata": {},
     "output_type": "execute_result"
    }
   ],
   "source": [
    "import pandas as pd\n",
    "\n",
    "df = pd.read_csv('dap_pattern.csv')\n",
    "print(df.shape)\n",
    "print(df.dtypes)\n",
    "df.head()"
   ]
  },
  {
   "cell_type": "code",
   "execution_count": 20,
   "metadata": {},
   "outputs": [],
   "source": [
    "kw_who = {\n",
    "    'family': ['family', 'family and','brother','my mom','son','some famil','brother -','my aunt',\n",
    "              'mother','parents','brother','cousin','brothers','sisters','brother an'], \n",
    "    'friends': ['friends','friends, a','friends/a','friends fr','roomate','room mate','buddies',\n",
    "               'friend','roommates','roomates','friends/cl','friends, f','with a fri'], \n",
    "    'anyone': ['anyone', 'anyone, al','stranger', 'whoever', 'acquaitenc','using acqu','e-stranger'], \n",
    "    'unknown': ['unknown','unknown, c','unk','uknown','unknown du','unknown cl','anyone and'], \n",
    "    'myself': ['alone','no one','drinks alo','self','by myself','myself','by my self','and by my','my self',\n",
    "               'by self','alone.','alone at t','uses alone','myself and','myself whi','alone and','mostly alo',\n",
    "              'along'],\n",
    "    'partner': ['girlfriend','boyfriend','ex-girlfriend','ex-boyfriend','wife','husband', 'mistress','spouse',\n",
    "               'first husb','fiancee','fiancee','fiance','x-wife','ex-husband','fiance.','parnter',\n",
    "                'ex-boyfriend','with ex-bo','ex-boyfrie','an ex-boyf','boyfriends',\n",
    "               'ex-girlfriend','ex girlfri','ex-boyfrie','past boyfr','girl frien'],\n",
    "    'co-workers': ['co-workers','coworkers','co workers','client sta','client','acquaintan','acquantanc',\n",
    "                  'employees','clients','boss','co-worker','business p','business c'],\n",
    "    'neighbor': ['neighbor','neighbors']\n",
    "}\n",
    "\n",
    "def search(values, searchFor): # search if dictionary value contains certain string --> return key, else return string\n",
    "    for k in values:\n",
    "        for v in values[k]:\n",
    "            if str(searchFor) == v:\n",
    "                return k\n",
    "    return 'unknown' # searchFor\n",
    "\n",
    "df['who'] = df['who'].str.lower()\n",
    "df['who'] = df.apply(lambda x: search(kw_who, x['who']), axis=1)"
   ]
  },
  {
   "cell_type": "code",
   "execution_count": 21,
   "metadata": {},
   "outputs": [
    {
     "data": {
      "text/plain": [
       "7"
      ]
     },
     "execution_count": 21,
     "metadata": {},
     "output_type": "execute_result"
    }
   ],
   "source": [
    "df['who'].nunique()"
   ]
  },
  {
   "cell_type": "code",
   "execution_count": 23,
   "metadata": {},
   "outputs": [
    {
     "data": {
      "text/plain": [
       "unknown       9384930\n",
       "friends         71924\n",
       "myself          69889\n",
       "anyone          24777\n",
       "family          16724\n",
       "neighbor         1836\n",
       "co-workers        446\n",
       "Name: who, dtype: int64"
      ]
     },
     "execution_count": 23,
     "metadata": {},
     "output_type": "execute_result"
    }
   ],
   "source": [
    "df['who'].value_counts()"
   ]
  },
  {
   "cell_type": "code",
   "execution_count": 12,
   "metadata": {},
   "outputs": [
    {
     "data": {
      "text/plain": [
       "fear of consequences              26455\n",
       "family                            25977\n",
       "nothing                           23337\n",
       "determination                     20087\n",
       "AA/NA                             19450\n",
       "staying busy                      18548\n",
       "staying away from people who u    16886\n",
       "working                           14588\n",
       "fear of losing job/family         12756\n",
       "staying away from a bad enviro    10005\n",
       "church                             7933\n",
       "God                                5762\n",
       "prayer                             3819\n",
       "having a girlfriend/boyfriend      3232\n",
       "limited access to finances         3176\n",
       "Jail                                939\n",
       "Pregnancy                           843\n",
       "dont want it anymore                824\n",
       "UA's                                619\n",
       "work                                578\n",
       "urine screen at work                578\n",
       "my kids                             529\n",
       "being incarcerated                  528\n",
       "has a child now                     506\n",
       "doesn't do anything for him         506\n",
       "I just don't drink.                 489\n",
       "remembering work                    455\n",
       "cooking-my hobby                    455\n",
       "incarceration                       454\n",
       "friends                             453\n",
       "being in jail                       400\n",
       "infant son                          392\n",
       "responsibility for my kids          358\n",
       "no money                            346\n",
       "Probation                           342\n",
       "probation                           340\n",
       "jail/detox                          328\n",
       "not walking out the door of da      322\n",
       "it gets old after awhile            312\n",
       "kids                                303\n",
       "jail                                297\n",
       "being in a facility                 294\n",
       "Dont go where I am not suppose      282\n",
       "reading                             263\n",
       "school                              252\n",
       "MEDICATION                          236\n",
       "methadone                           227\n",
       "responsibilities                    223\n",
       "daughter                            220\n",
       "GOING TO AA MEETINGS                201\n",
       "Name: what_helps, dtype: int64"
      ]
     },
     "execution_count": 12,
     "metadata": {},
     "output_type": "execute_result"
    }
   ],
   "source": [
    "df['what_helps'].value_counts()[:50]\n",
    "# data cleaning --> vocabulary --> bag of words / count occurrences --> random forest for prediction\n",
    "# label 200 phrases that have labels"
   ]
  },
  {
   "cell_type": "code",
   "execution_count": null,
   "metadata": {},
   "outputs": [],
   "source": []
  }
 ],
 "metadata": {
  "kernelspec": {
   "display_name": "Python 3",
   "language": "python",
   "name": "python3"
  },
  "language_info": {
   "codemirror_mode": {
    "name": "ipython",
    "version": 3
   },
   "file_extension": ".py",
   "mimetype": "text/x-python",
   "name": "python",
   "nbconvert_exporter": "python",
   "pygments_lexer": "ipython3",
   "version": "3.8.5"
  }
 },
 "nbformat": 4,
 "nbformat_minor": 4
}
